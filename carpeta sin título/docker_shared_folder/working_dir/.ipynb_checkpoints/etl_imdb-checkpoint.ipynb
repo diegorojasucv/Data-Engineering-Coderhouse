{
 "cells": [
  {
   "cell_type": "code",
   "execution_count": 1,
   "id": "b5580fdf-b791-4323-ace7-b607a88aed32",
   "metadata": {
    "tags": []
   },
   "outputs": [
    {
     "name": "stdout",
     "output_type": "stream",
     "text": [
      "Requirement already satisfied: requests in /opt/conda/lib/python3.10/site-packages (2.28.2)\n",
      "Requirement already satisfied: charset-normalizer<4,>=2 in /opt/conda/lib/python3.10/site-packages (from requests) (3.1.0)\n",
      "Requirement already satisfied: idna<4,>=2.5 in /opt/conda/lib/python3.10/site-packages (from requests) (3.4)\n",
      "Requirement already satisfied: urllib3<1.27,>=1.21.1 in /opt/conda/lib/python3.10/site-packages (from requests) (1.26.15)\n",
      "Requirement already satisfied: certifi>=2017.4.17 in /opt/conda/lib/python3.10/site-packages (from requests) (2022.12.7)\n",
      "Collecting redshift_connector\n",
      "  Downloading redshift_connector-2.0.911-py3-none-any.whl (112 kB)\n",
      "\u001b[2K     \u001b[90m━━━━━━━━━━━━━━━━━━━━━━━━━━━━━━━━━━━━━━━\u001b[0m \u001b[32m112.6/112.6 kB\u001b[0m \u001b[31m2.3 MB/s\u001b[0m eta \u001b[36m0:00:00\u001b[0ma \u001b[36m0:00:01\u001b[0m\n",
      "\u001b[?25hCollecting scramp<1.5.0,>=1.2.0 (from redshift_connector)\n",
      "  Downloading scramp-1.4.4-py3-none-any.whl (13 kB)\n",
      "Requirement already satisfied: pytz>=2020.1 in /opt/conda/lib/python3.10/site-packages (from redshift_connector) (2023.3)\n",
      "Requirement already satisfied: beautifulsoup4<5.0.0,>=4.7.0 in /opt/conda/lib/python3.10/site-packages (from redshift_connector) (4.12.2)\n",
      "Collecting boto3<2.0.0,>=1.9.201 (from redshift_connector)\n",
      "  Downloading boto3-1.26.152-py3-none-any.whl (135 kB)\n",
      "\u001b[2K     \u001b[90m━━━━━━━━━━━━━━━━━━━━━━━━━━━━━━━━━━━━━━\u001b[0m \u001b[32m135.6/135.6 kB\u001b[0m \u001b[31m10.4 MB/s\u001b[0m eta \u001b[36m0:00:00\u001b[0m\n",
      "\u001b[?25hRequirement already satisfied: requests<3.0.0,>=2.23.0 in /opt/conda/lib/python3.10/site-packages (from redshift_connector) (2.28.2)\n",
      "Collecting lxml>=4.6.5 (from redshift_connector)\n",
      "  Downloading lxml-4.9.2-cp310-cp310-manylinux_2_17_aarch64.manylinux2014_aarch64.manylinux_2_24_aarch64.whl (6.8 MB)\n",
      "\u001b[2K     \u001b[90m━━━━━━━━━━━━━━━━━━━━━━━━━━━━━━━━━━━━━━━━\u001b[0m \u001b[32m6.8/6.8 MB\u001b[0m \u001b[31m18.5 MB/s\u001b[0m eta \u001b[36m0:00:00\u001b[0m00:01\u001b[0m00:01\u001b[0m\n",
      "\u001b[?25hCollecting botocore<2.0.0,>=1.12.201 (from redshift_connector)\n",
      "  Downloading botocore-1.29.152-py3-none-any.whl (10.9 MB)\n",
      "\u001b[2K     \u001b[90m━━━━━━━━━━━━━━━━━━━━━━━━━━━━━━━━━━━━━━━━\u001b[0m \u001b[32m10.9/10.9 MB\u001b[0m \u001b[31m26.5 MB/s\u001b[0m eta \u001b[36m0:00:00\u001b[0m00:01\u001b[0m0:01\u001b[0m\n",
      "\u001b[?25hRequirement already satisfied: packaging in /opt/conda/lib/python3.10/site-packages (from redshift_connector) (23.1)\n",
      "Requirement already satisfied: setuptools in /opt/conda/lib/python3.10/site-packages (from redshift_connector) (67.7.1)\n",
      "Requirement already satisfied: soupsieve>1.2 in /opt/conda/lib/python3.10/site-packages (from beautifulsoup4<5.0.0,>=4.7.0->redshift_connector) (2.3.2.post1)\n",
      "Collecting jmespath<2.0.0,>=0.7.1 (from boto3<2.0.0,>=1.9.201->redshift_connector)\n",
      "  Downloading jmespath-1.0.1-py3-none-any.whl (20 kB)\n",
      "Collecting s3transfer<0.7.0,>=0.6.0 (from boto3<2.0.0,>=1.9.201->redshift_connector)\n",
      "  Downloading s3transfer-0.6.1-py3-none-any.whl (79 kB)\n",
      "\u001b[2K     \u001b[90m━━━━━━━━━━━━━━━━━━━━━━━━━━━━━━━━━━━━━━━━\u001b[0m \u001b[32m79.8/79.8 kB\u001b[0m \u001b[31m27.8 MB/s\u001b[0m eta \u001b[36m0:00:00\u001b[0m\n",
      "\u001b[?25hRequirement already satisfied: python-dateutil<3.0.0,>=2.1 in /opt/conda/lib/python3.10/site-packages (from botocore<2.0.0,>=1.12.201->redshift_connector) (2.8.2)\n",
      "Requirement already satisfied: urllib3<1.27,>=1.25.4 in /opt/conda/lib/python3.10/site-packages (from botocore<2.0.0,>=1.12.201->redshift_connector) (1.26.15)\n",
      "Requirement already satisfied: charset-normalizer<4,>=2 in /opt/conda/lib/python3.10/site-packages (from requests<3.0.0,>=2.23.0->redshift_connector) (3.1.0)\n",
      "Requirement already satisfied: idna<4,>=2.5 in /opt/conda/lib/python3.10/site-packages (from requests<3.0.0,>=2.23.0->redshift_connector) (3.4)\n",
      "Requirement already satisfied: certifi>=2017.4.17 in /opt/conda/lib/python3.10/site-packages (from requests<3.0.0,>=2.23.0->redshift_connector) (2022.12.7)\n",
      "Collecting asn1crypto>=1.5.1 (from scramp<1.5.0,>=1.2.0->redshift_connector)\n",
      "  Downloading asn1crypto-1.5.1-py2.py3-none-any.whl (105 kB)\n",
      "\u001b[2K     \u001b[90m━━━━━━━━━━━━━━━━━━━━━━━━━━━━━━━━━━━━━━\u001b[0m \u001b[32m105.0/105.0 kB\u001b[0m \u001b[31m39.7 MB/s\u001b[0m eta \u001b[36m0:00:00\u001b[0m\n",
      "\u001b[?25hRequirement already satisfied: six>=1.5 in /opt/conda/lib/python3.10/site-packages (from python-dateutil<3.0.0,>=2.1->botocore<2.0.0,>=1.12.201->redshift_connector) (1.16.0)\n",
      "Installing collected packages: asn1crypto, scramp, lxml, jmespath, botocore, s3transfer, boto3, redshift_connector\n",
      "Successfully installed asn1crypto-1.5.1 boto3-1.26.152 botocore-1.29.152 jmespath-1.0.1 lxml-4.9.2 redshift_connector-2.0.911 s3transfer-0.6.1 scramp-1.4.4\n",
      "Collecting psycopg2-binary\n",
      "  Downloading psycopg2_binary-2.9.6-cp310-cp310-manylinux_2_17_aarch64.manylinux2014_aarch64.whl (2.8 MB)\n",
      "\u001b[2K     \u001b[90m━━━━━━━━━━━━━━━━━━━━━━━━━━━━━━━━━━━━━━━━\u001b[0m \u001b[32m2.8/2.8 MB\u001b[0m \u001b[31m14.3 MB/s\u001b[0m eta \u001b[36m0:00:00\u001b[0ma \u001b[36m0:00:01\u001b[0m\n",
      "\u001b[?25hInstalling collected packages: psycopg2-binary\n",
      "Successfully installed psycopg2-binary-2.9.6\n"
     ]
    }
   ],
   "source": [
    "# Importamos los paquetes\n",
    "!pip install requests\n",
    "!pip install redshift_connector\n",
    "!pip install psycopg2-binary"
   ]
  },
  {
   "cell_type": "code",
   "execution_count": 2,
   "id": "d75abe76-a2d4-4f4b-9fbe-23bde1509300",
   "metadata": {
    "tags": []
   },
   "outputs": [],
   "source": [
    "# Importamos bibliotecas\n",
    "import pandas as pd\n",
    "import redshift_connector\n",
    "from sqlalchemy import create_engine\n",
    "import requests\n",
    "from datetime import date\n",
    "from os import environ as env\n",
    "import os\n",
    "import psycopg2\n",
    "env = os.environ"
   ]
  },
  {
   "cell_type": "code",
   "execution_count": 108,
   "id": "d658ef50-237f-4a4f-b2fb-cff27d891ebf",
   "metadata": {
    "tags": []
   },
   "outputs": [],
   "source": [
    "# Importar Funciones de Spark\n",
    "\n",
    "from pyspark.sql import SparkSession\n",
    "from pyspark.sql.functions import when, lit, col, current_date, date_format, year, min, max\n",
    "\n",
    "\n",
    "driver_path = '/home/coder/working_dir/driver_jdbc/postgresql-42.2.27.jre7.jar'\n",
    "os.environ['PYSPARK_SUBMIT_ARGS'] = f'--driver-class-path {driver_path} --jars {driver_path} pyspark-shell'\n",
    "os.environ['SPARK_CLASSPATH'] = driver_path\n"
   ]
  },
  {
   "cell_type": "code",
   "execution_count": 20,
   "id": "c056f05c-c662-4c11-a163-14a0330eb001",
   "metadata": {
    "tags": []
   },
   "outputs": [],
   "source": [
    "def create_spark_session():\n",
    "    \n",
    "    '''\n",
    "    Función para crear la sesión de Spark.\n",
    "    '''\n",
    "    \n",
    "    spark = SparkSession.builder \\\n",
    "            .master('local') \\\n",
    "            .appName('Conexion entre Pyspark y Redshift') \\\n",
    "            .config('spark.jars', driver_path) \\\n",
    "            .config('spark.executor.extraClassPath', driver_path) \\\n",
    "            .getOrCreate()\n",
    "\n"
   ]
  },
  {
   "cell_type": "code",
   "execution_count": 23,
   "id": "de128335-18c0-4c36-ba01-4308326ced6a",
   "metadata": {
    "tags": []
   },
   "outputs": [],
   "source": [
    "def connect_to_redshift():\n",
    "    \n",
    "    '''\n",
    "    Función para conectar a Redshift.\n",
    "    '''\n",
    "    \n",
    "    conn = psycopg2.connect(\n",
    "      host=env['REDSHIFT_HOST'],\n",
    "      port=env['REDSHIFT_PORT'],\n",
    "      dbname=env['REDSHIFT_DB'],\n",
    "      user=env['REDSHIFT_USER'],\n",
    "      password=env['REDSHIFT_PASSWORD']\n",
    "    )"
   ]
  },
  {
   "cell_type": "code",
   "execution_count": 118,
   "id": "698ade1c-492f-42a9-8782-0fafad4a8c08",
   "metadata": {
    "tags": []
   },
   "outputs": [],
   "source": [
    "create_spark_session()\n",
    "connect_to_redshift()"
   ]
  },
  {
   "cell_type": "code",
   "execution_count": 10,
   "id": "8661d03a-bc58-493a-b8b4-82d3783f1ef1",
   "metadata": {
    "tags": []
   },
   "outputs": [],
   "source": [
    "def extract_data():\n",
    "    \n",
    "    '''\n",
    "    Función para extraer los datos de la API(Top 250 de mejores pelicuas de IMDB)\n",
    "    '''\n",
    "    \n",
    "    api_key_value = env['API_KEY']\n",
    "    endpoint = 'https://imdb-api.com/en/API/Top250Movies/' + api_key_value\n",
    "\n",
    "    response = requests.get(endpoint)\n",
    "    data = response.json()\n",
    "    data_items = data['items']\n",
    "    data_spark = spark.createDataFrame(data_items)\n",
    "\n",
    "    return data_spark"
   ]
  },
  {
   "cell_type": "code",
   "execution_count": 97,
   "id": "f5e30f89-42fd-443a-927c-a14ab90a7480",
   "metadata": {
    "tags": []
   },
   "outputs": [],
   "source": [
    "data_extracted = extract_data()"
   ]
  },
  {
   "cell_type": "code",
   "execution_count": 98,
   "id": "998f94ef-510d-458e-ace4-7ce2ec4fe76b",
   "metadata": {
    "tags": []
   },
   "outputs": [
    {
     "name": "stdout",
     "output_type": "stream",
     "text": [
      "+--------------------+--------------------+---------+----------+---------------+--------------------+----+--------------------+----+\n",
      "|                crew|           fullTitle|       id|imDbRating|imDbRatingCount|               image|rank|               title|year|\n",
      "+--------------------+--------------------+---------+----------+---------------+--------------------+----+--------------------+----+\n",
      "|Frank Darabont (d...|The Shawshank Red...|tt0111161|       9.2|        2750709|https://m.media-a...|   1|The Shawshank Red...|1994|\n",
      "|Francis Ford Copp...|The Godfather (1972)|tt0068646|       9.2|        1913342|https://m.media-a...|   2|       The Godfather|1972|\n",
      "|Christopher Nolan...|The Dark Knight (...|tt0468569|       9.0|        2723486|https://m.media-a...|   3|     The Dark Knight|2008|\n",
      "|Francis Ford Copp...|The Godfather Par...|tt0071562|       9.0|        1303106|https://m.media-a...|   4|The Godfather Par...|1974|\n",
      "|Sidney Lumet (dir...| 12 Angry Men (1957)|tt0050083|       9.0|         814614|https://m.media-a...|   5|        12 Angry Men|1957|\n",
      "+--------------------+--------------------+---------+----------+---------------+--------------------+----+--------------------+----+\n",
      "only showing top 5 rows\n",
      "\n"
     ]
    }
   ],
   "source": [
    "data_extracted.show(5)"
   ]
  },
  {
   "cell_type": "code",
   "execution_count": 109,
   "id": "8a57dc29-f71d-457b-bc80-b0df8ed9b0de",
   "metadata": {
    "tags": []
   },
   "outputs": [],
   "source": [
    "def transformation_data(data):\n",
    "    \n",
    "    '''\n",
    "    Función para transformar los datos recibidos de la API.\n",
    "    '''\n",
    "  \n",
    "    df_transformed = data.dropDuplicates()\n",
    "    df_transformed = df_transformed.withColumn('created_date', date_format(current_date(), 'yyyy-MM-dd'))\n",
    "    df_transformed = df_transformed.withColumn('imDbRatingCount', col('imDbRatingCount') / 1000)\n",
    "    df_transformed = df_transformed.withColumn('age_of_movie', year(current_date()) - col('year'))\n",
    "\n",
    "    min_value = df_transformed.select(min(col('imDbRating')).cast('double')).collect()[0][0]\n",
    "    max_value = df_transformed.select(max(col('imDbRating')).cast('double')).collect()[0][0]\n",
    "\n",
    "    df_transformed = df_transformed.withColumn('rating_scaled', (col('imDbRating') - min_value / (max_value - min_value)))\n",
    "\n",
    "    df_transformed = df_transformed.withColumn('rating_category', when(col('imDbRating') <= 5, 'bajo')\n",
    "                                      .when(col('imDbRating') <= 8, 'medio')\n",
    "                                      .otherwise('alto'))\n",
    "\n",
    "    return df_transformed\n"
   ]
  },
  {
   "cell_type": "code",
   "execution_count": 110,
   "id": "87ac3467-e856-46ad-a685-7b897df7f379",
   "metadata": {
    "tags": []
   },
   "outputs": [],
   "source": [
    "df_transformed = transformation_data(data_extracted)"
   ]
  },
  {
   "cell_type": "code",
   "execution_count": 112,
   "id": "d3e501a0-4256-48d3-a7ec-8c276da36587",
   "metadata": {
    "tags": []
   },
   "outputs": [
    {
     "name": "stdout",
     "output_type": "stream",
     "text": [
      "+--------------------+--------------------+---------+----------+---------------+--------------------+----+--------------------+----+------------+------------+------------------+---------------+\n",
      "|                crew|           fullTitle|       id|imDbRating|imDbRatingCount|               image|rank|               title|year|created_date|age_of_movie|     rating_scaled|rating_category|\n",
      "+--------------------+--------------------+---------+----------+---------------+--------------------+----+--------------------+----+------------+------------+------------------+---------------+\n",
      "|Akira Kurosawa (d...|        Ikiru (1952)|tt0044741|       8.2|         81.989|https://m.media-a...|  99|               Ikiru|1952|  2023-06-13|        71.0|1.5333333333333288|          medio|\n",
      "|Ron Howard (dir.)...|         Rush (2013)|tt1979320|       8.0|        491.828|https://m.media-a...| 220|                Rush|2013|  2023-06-13|        10.0|1.3333333333333295|          medio|\n",
      "|Gillo Pontecorvo ...|The Battle of Alg...|tt0058946|       8.0|         62.517|https://m.media-a...| 233|The Battle of Alg...|1966|  2023-06-13|        57.0|1.3333333333333295|          medio|\n",
      "|Paul Thomas Ander...|There Will Be Blo...|tt0469494|       8.2|        603.204|https://m.media-a...| 139| There Will Be Blood|2007|  2023-06-13|        16.0|1.5333333333333288|          medio|\n",
      "|Sergio Leone (dir...|For a Few Dollars...|tt0059578|       8.2|        263.145|https://m.media-a...| 127|For a Few Dollars...|1965|  2023-06-13|        58.0|1.5333333333333288|          medio|\n",
      "+--------------------+--------------------+---------+----------+---------------+--------------------+----+--------------------+----+------------+------------+------------------+---------------+\n",
      "only showing top 5 rows\n",
      "\n"
     ]
    }
   ],
   "source": [
    "df_transformed.show(5)"
   ]
  },
  {
   "cell_type": "code",
   "execution_count": 133,
   "id": "f71d2b09-7634-406e-8deb-a7437ec5d655",
   "metadata": {
    "tags": []
   },
   "outputs": [],
   "source": [
    "def load_data(data):\n",
    "    \n",
    "    '''\n",
    "    Función para guardar los datos en una tabla. Si la tabla ya existe \n",
    "    volveremos agregar los datos con la fecha de consulta.\n",
    "    '''\n",
    "  \n",
    "    data.write \\\n",
    "        .format(\"jdbc\") \\\n",
    "        .option(\"url\", f\"jdbc:postgresql://{env['REDSHIFT_HOST']}:{env['REDSHIFT_PORT']}/{env['REDSHIFT_DB']}\") \\\n",
    "        .option(\"dbtable\", f\"{env['REDSHIFT_SCHEMA']}.top_movies_imdb\") \\\n",
    "        .option(\"user\", env['REDSHIFT_USER']) \\\n",
    "        .option(\"password\", env['REDSHIFT_PASSWORD']) \\\n",
    "        .option(\"driver\", \"org.postgresql.Driver\") \\\n",
    "        .mode(\"append\") \\\n",
    "        .save()"
   ]
  },
  {
   "cell_type": "code",
   "execution_count": 134,
   "id": "532a04ae-8313-4b91-a378-6bcf01157111",
   "metadata": {
    "tags": []
   },
   "outputs": [],
   "source": [
    "load_data(df_transformed)"
   ]
  },
  {
   "cell_type": "code",
   "execution_count": 130,
   "id": "54316e5e-9416-4dbf-b148-72f9fa214912",
   "metadata": {
    "tags": []
   },
   "outputs": [],
   "source": [
    "def fetch_data():\n",
    "    \n",
    "    '''\n",
    "    Función para consultar una tabla de Redshift\n",
    "    '''    \n",
    "\n",
    "    query = f\"select * from {env['REDSHIFT_SCHEMA']}.top_movies_imdb\"\n",
    "\n",
    "    df_fetched = spark.read \\\n",
    "                .format(\"jdbc\") \\\n",
    "                .option(\"url\", f\"jdbc:postgresql://{env['REDSHIFT_HOST']}:{env['REDSHIFT_PORT']}/{env['REDSHIFT_DB']}\") \\\n",
    "                .option(\"dbtable\", f\"({query}) as tmp_table\") \\\n",
    "                .option(\"user\", env['REDSHIFT_USER']) \\\n",
    "                .option(\"password\", env['REDSHIFT_PASSWORD']) \\\n",
    "                .option(\"driver\", \"org.postgresql.Driver\") \\\n",
    "                .load()\n",
    "\n",
    "    return df_fetched"
   ]
  },
  {
   "cell_type": "code",
   "execution_count": 131,
   "id": "8de516d9-754b-4e92-abd1-36eabe5ac0e2",
   "metadata": {
    "tags": []
   },
   "outputs": [],
   "source": [
    "top_movies_imdb_date = fetch_data()"
   ]
  },
  {
   "cell_type": "code",
   "execution_count": 132,
   "id": "94122a03-1705-4016-a3ee-2483a1d85fa2",
   "metadata": {
    "tags": []
   },
   "outputs": [
    {
     "name": "stdout",
     "output_type": "stream",
     "text": [
      "+--------------------+--------------------+---------+----------+---------------+--------------------+----+--------------------+----+------------+------------+------------------+---------------+\n",
      "|                crew|           fulltitle|       id|imdbrating|imdbratingcount|               image|rank|               title|year|created_date|age_of_movie|     rating_scaled|rating_category|\n",
      "+--------------------+--------------------+---------+----------+---------------+--------------------+----+--------------------+----+------------+------------+------------------+---------------+\n",
      "|Akira Kurosawa (d...|        Ikiru (1952)|tt0044741|       8.2|         81.989|https://m.media-a...|  99|               Ikiru|1952|  2023-06-13|        71.0|1.5333333333333288|          medio|\n",
      "|Ron Howard (dir.)...|         Rush (2013)|tt1979320|       8.0|        491.828|https://m.media-a...| 220|                Rush|2013|  2023-06-13|        10.0|1.3333333333333295|          medio|\n",
      "|Gillo Pontecorvo ...|The Battle of Alg...|tt0058946|       8.0|         62.517|https://m.media-a...| 233|The Battle of Alg...|1966|  2023-06-13|        57.0|1.3333333333333295|          medio|\n",
      "|Paul Thomas Ander...|There Will Be Blo...|tt0469494|       8.2|        603.204|https://m.media-a...| 139| There Will Be Blood|2007|  2023-06-13|        16.0|1.5333333333333288|          medio|\n",
      "|Sergio Leone (dir...|For a Few Dollars...|tt0059578|       8.2|        263.145|https://m.media-a...| 127|For a Few Dollars...|1965|  2023-06-13|        58.0|1.5333333333333288|          medio|\n",
      "+--------------------+--------------------+---------+----------+---------------+--------------------+----+--------------------+----+------------+------------+------------------+---------------+\n",
      "only showing top 5 rows\n",
      "\n"
     ]
    }
   ],
   "source": [
    "top_movies_imdb_date.show(5)"
   ]
  }
 ],
 "metadata": {
  "kernelspec": {
   "display_name": "Python 3 (ipykernel)",
   "language": "python",
   "name": "python3"
  },
  "language_info": {
   "codemirror_mode": {
    "name": "ipython",
    "version": 3
   },
   "file_extension": ".py",
   "mimetype": "text/x-python",
   "name": "python",
   "nbconvert_exporter": "python",
   "pygments_lexer": "ipython3",
   "version": "3.10.10"
  }
 },
 "nbformat": 4,
 "nbformat_minor": 5
}
